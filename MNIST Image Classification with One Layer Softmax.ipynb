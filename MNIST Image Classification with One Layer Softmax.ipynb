{
 "cells": [
  {
   "cell_type": "markdown",
   "id": "31d633bb",
   "metadata": {},
   "source": [
    "# Importing Necessary Libraries"
   ]
  },
  {
   "cell_type": "code",
   "execution_count": 1,
   "id": "d863e8e1",
   "metadata": {},
   "outputs": [],
   "source": [
    "# PyTorch Libraries\n",
    "import torch \n",
    "import torch.nn as nn\n",
    "import torchvision.transforms as transforms\n",
    "import torch.nn.functional as F\n",
    "\n",
    "# To get MNIST dataset\n",
    "import torchvision.datasets as dsets\n",
    "\n",
    "# Array operations and visualizations\n",
    "import matplotlib.pylab as plt\n",
    "import numpy as np"
   ]
  },
  {
   "cell_type": "markdown",
   "id": "7b0bfe01",
   "metadata": {},
   "source": [
    "# Function to plot an image"
   ]
  },
  {
   "cell_type": "code",
   "execution_count": 2,
   "id": "c6c4f248",
   "metadata": {},
   "outputs": [],
   "source": [
    "# Plot the data\n",
    "def show_data(data_sample):\n",
    "    plt.imshow(data_sample[0].numpy().reshape(28, 28), cmap='gray')\n",
    "    plt.title('y = ' + str(data_sample[1]))"
   ]
  },
  {
   "cell_type": "markdown",
   "id": "b9eff434",
   "metadata": {},
   "source": [
    "<h2 id=\"Makeup_Data\">MNIST DATA</h2> "
   ]
  },
  {
   "cell_type": "code",
   "execution_count": 3,
   "id": "39c2ea94",
   "metadata": {},
   "outputs": [
    {
     "name": "stdout",
     "output_type": "stream",
     "text": [
      "Print the training dataset:\n",
      "  Dataset MNIST\n",
      "    Number of datapoints: 60000\n",
      "    Root location: ./data\n",
      "    Split: Train\n"
     ]
    }
   ],
   "source": [
    "# Create the training dataset\n",
    "train_dataset = dsets.MNIST(root='./data', train=True, download=True, transform=transforms.ToTensor())\n",
    "print(\"Print the training dataset:\\n \", train_dataset)"
   ]
  },
  {
   "cell_type": "code",
   "execution_count": 4,
   "id": "c86ac351",
   "metadata": {},
   "outputs": [
    {
     "name": "stdout",
     "output_type": "stream",
     "text": [
      "<class 'torchvision.datasets.mnist.MNIST'> contains  60000  tuples\n",
      "<class 'tuple'>  has 2  tensors\n",
      "<class 'torch.Tensor'>  dimension is  torch.Size([1, 28, 28])\n",
      "<class 'int'>\n"
     ]
    }
   ],
   "source": [
    "print(type(train_dataset),'contains ', len(train_dataset), \" tuples\")\n",
    "print(type(train_dataset[0]), \" has\", len(train_dataset[0]), \" tensors\")\n",
    "print(type(train_dataset[0][0]),\" dimension is \",train_dataset[0][0].shape )\n",
    "print(type(train_dataset[0][1]))"
   ]
  },
  {
   "cell_type": "code",
   "execution_count": 5,
   "id": "d61768d3",
   "metadata": {},
   "outputs": [
    {
     "name": "stdout",
     "output_type": "stream",
     "text": [
      "tensor(1.)\n",
      "tensor(0.)\n",
      "tensor([0.0000, 0.0314, 0.0471, 0.0588, 0.0784, 0.0902, 0.0941, 0.1216, 0.1255,\n",
      "        0.1529, 0.1882, 0.2353, 0.2431, 0.2471, 0.2510, 0.2588, 0.2667, 0.3137,\n",
      "        0.3490, 0.3686, 0.3765, 0.4078, 0.4863, 0.4941, 0.4980, 0.5490, 0.5922,\n",
      "        0.6078, 0.6235, 0.6745, 0.7216, 0.7412, 0.7569, 0.7686, 0.8039, 0.8275,\n",
      "        0.8627, 0.8667, 0.8941, 0.9176, 0.9216, 0.9255, 0.9412, 0.9569, 0.9686,\n",
      "        0.9843, 0.9922, 1.0000])\n"
     ]
    }
   ],
   "source": [
    "print(torch.max(train_dataset[3][0]))\n",
    "print(torch.min(train_dataset[3][0]))\n",
    "print(torch.unique(train_dataset[3][0]))"
   ]
  },
  {
   "cell_type": "code",
   "execution_count": 6,
   "id": "04a1dbc6",
   "metadata": {},
   "outputs": [
    {
     "name": "stdout",
     "output_type": "stream",
     "text": [
      "Print the validation dataset:\n",
      "  Dataset MNIST\n",
      "    Number of datapoints: 60000\n",
      "    Root location: ./data\n",
      "    Split: Train\n"
     ]
    }
   ],
   "source": [
    "# Create the validation dataset\n",
    "validation_dataset = dsets.MNIST(root='./data', download=True, transform=transforms.ToTensor())\n",
    "print(\"Print the validation dataset:\\n \", validation_dataset)"
   ]
  },
  {
   "cell_type": "code",
   "execution_count": 7,
   "id": "4afc8b2f",
   "metadata": {},
   "outputs": [
    {
     "data": {
      "image/png": "[encoded data removed]",
      "text/plain": [
       "<Figure size 432x288 with 1 Axes>"
      ]
     },
     "metadata": {
      "needs_background": "light"
     },
     "output_type": "display_data"
    }
   ],
   "source": [
    "# Print the first image and label\n",
    "show_data(train_dataset[0])"
   ]
  },
  {
   "cell_type": "code",
   "execution_count": 8,
   "id": "329a7829",
   "metadata": {},
   "outputs": [
    {
     "name": "stdout",
     "output_type": "stream",
     "text": [
      "The label: 1\n"
     ]
    }
   ],
   "source": [
    "# Print the label\n",
    "print(\"The label:\", train_dataset[3][1])"
   ]
  },
  {
   "cell_type": "code",
   "execution_count": 9,
   "id": "884ae095",
   "metadata": {},
   "outputs": [],
   "source": [
    "# Created a training data loader\n",
    "train_loader = torch.utils.data.DataLoader(dataset=train_dataset, batch_size=100, shuffle = True)\n",
    "\n",
    "# Created a validation data loader\n",
    "validation_loader = torch.utils.data.DataLoader(dataset=validation_dataset, batch_size=5000)"
   ]
  },
  {
   "cell_type": "markdown",
   "id": "f052406c",
   "metadata": {},
   "source": [
    "# Creating a one layer network"
   ]
  },
  {
   "cell_type": "code",
   "execution_count": 10,
   "id": "75ef035e",
   "metadata": {},
   "outputs": [
    {
     "name": "stdout",
     "output_type": "stream",
     "text": [
      "The model:\n",
      "  SoftMax(\n",
      "  (layer1): Linear(in_features=784, out_features=10, bias=True)\n",
      ")\n",
      "Dummy input shape: torch.Size([1, 784])\n",
      "Dummy output shape: torch.Size([1, 10])\n"
     ]
    },
    {
     "name": "stderr",
     "output_type": "stream",
     "text": [
      "C:\\Users\\User\\Anaconda3\\lib\\site-packages\\ipykernel_launcher.py:13: UserWarning: Implicit dimension choice for softmax has been deprecated. Change the call to include dim=X as an argument.\n",
      "  del sys.path[0]\n"
     ]
    }
   ],
   "source": [
    "class SoftMax(nn.Module):\n",
    "    \n",
    "    # Constructor\n",
    "    def __init__(self):\n",
    "        super().__init__()\n",
    "        # Creates a layer of given input size and output size\n",
    "        self.layer1 = torch.nn.Linear(784, 10)\n",
    "        \n",
    "    # Prediction\n",
    "    def forward(self, x):\n",
    "        # Runs the x value through the single layers defined above\n",
    "        x = self.layer1(x)\n",
    "        x = F.softmax(x)\n",
    "        return x\n",
    "    \n",
    "model = SoftMax()\n",
    "print(\"The model:\\n \", model)\n",
    "\n",
    "# Creating dummy inputs to feed the model\n",
    "dummy_input = torch.randn(1, 28*28) #You can create tensors in GPU directly instead of .cuda()\n",
    "dummy_output = model(dummy_input)\n",
    "\n",
    "# Dummy imput and output sizes\n",
    "print(f'Dummy input shape: {dummy_input.shape}')\n",
    "print(f'Dummy output shape: {dummy_output.shape}')"
   ]
  },
  {
   "cell_type": "markdown",
   "id": "9e67b752",
   "metadata": {},
   "source": [
    "# Optimizer, loss function, and data loader"
   ]
  },
  {
   "cell_type": "code",
   "execution_count": 11,
   "id": "66d65bbe",
   "metadata": {},
   "outputs": [],
   "source": [
    "# The optimizer will updates the model parameters using the learning rate\n",
    "optimizer = torch.optim.SGD(model.parameters(), lr=0.01)"
   ]
  },
  {
   "cell_type": "code",
   "execution_count": 12,
   "id": "6cbffb1a",
   "metadata": {},
   "outputs": [],
   "source": [
    "# The loss between the prediction and actual label values\n",
    "loss_fn = nn.CrossEntropyLoss()"
   ]
  },
  {
   "cell_type": "markdown",
   "id": "e5761818",
   "metadata": {},
   "source": [
    "# Train the model and test"
   ]
  },
  {
   "cell_type": "code",
   "execution_count": 13,
   "id": "d5fff3a3",
   "metadata": {},
   "outputs": [
    {
     "name": "stderr",
     "output_type": "stream",
     "text": [
      "C:\\Users\\User\\Anaconda3\\lib\\site-packages\\ipykernel_launcher.py:13: UserWarning: Implicit dimension choice for softmax has been deprecated. Change the call to include dim=X as an argument.\n",
      "  del sys.path[0]\n"
     ]
    }
   ],
   "source": [
    "# Number of times we train our model useing the training data\n",
    "n_epochs = 10\n",
    "\n",
    "# Lists to keep track of loss and accuracy\n",
    "loss_list = []\n",
    "accuracy_list = []\n",
    "\n",
    "# Loops n_epochs times\n",
    "for epoch in range(n_epochs):\n",
    "    \n",
    "    # For each batch in the train loader\n",
    "    for train_images, train_labels in train_loader:   \n",
    "        \n",
    "        # Flatten the images from [BATCH, 1, 28, 28] to [BATCH, 784]\n",
    "        flat_images = train_images.reshape(-1, 28 * 28)\n",
    "        \n",
    "        # Makes a prediction based on the image tensor\n",
    "        class_scores = model(flat_images)\n",
    "        \n",
    "        # Calculate the loss between the model output and actual class\n",
    "        loss = loss_fn(class_scores, train_labels)\n",
    "        \n",
    "        # Resets the calculated gradient value, this must be done each time as it accumulates if we do not reset\n",
    "        optimizer.zero_grad() \n",
    "        \n",
    "        # Calculates the gradient value with respect to each weight and bias\n",
    "        loss.backward()\n",
    "        \n",
    "        # Updates the weight and bias according to calculated gradient value\n",
    "        optimizer.step()\n",
    "    \n",
    "    # Append the calculated loss to the loss list\n",
    "    loss_list.append(loss)    \n",
    "       \n",
    "    # Initialize true and false predictions to 0 for each iteration    \n",
    "    true_predictions = 0\n",
    "    false_predictions = 0\n",
    "\n",
    "    # For each batch in the validation loader\n",
    "    for test_images, test_labels in validation_loader:\n",
    "\n",
    "        # Flatten the images from [BATCH, 1, 28, 28] to [BATCH, 784]\n",
    "        flat_images = test_images.reshape(-1, 28 * 28)\n",
    "\n",
    "        # Makes prediction based on image tensor\n",
    "        class_scores = model(flat_images)\n",
    "\n",
    "        # Finds the class with the highest probability\n",
    "        class_predictions = torch.argmax(class_scores, dim=-1)\n",
    "\n",
    "        # Number of true predictions in the batch using test_labels and class_predictions\n",
    "        true_predictions_batch  = torch.sum(class_predictions == test_labels)\n",
    "        false_predictions_batch = torch.sum(class_predictions != test_labels)\n",
    "\n",
    "        true_predictions  += true_predictions_batch.item()\n",
    "        false_predictions += false_predictions_batch.item()\n",
    "\n",
    "    # Calculate accuracy for each iteration        \n",
    "    accuracy = true_predictions / (true_predictions + false_predictions)\n",
    "    accuracy_list.append(accuracy)"
   ]
  },
  {
   "cell_type": "code",
   "execution_count": 14,
   "id": "09cad3ed",
   "metadata": {},
   "outputs": [
    {
     "data": {
      "image/png": "[encoded data removed]",
      "text/plain": [
       "<Figure size 432x288 with 2 Axes>"
      ]
     },
     "metadata": {
      "needs_background": "light"
     },
     "output_type": "display_data"
    }
   ],
   "source": [
    "# Plot the loss and accuracy\n",
    "\n",
    "fig, ax1 = plt.subplots()\n",
    "color = 'tab:red'\n",
    "ax1.plot(loss_list,color=color)\n",
    "ax1.set_xlabel('epoch',color=color)\n",
    "ax1.set_ylabel('total loss',color=color)\n",
    "ax1.tick_params(axis='y', color=color)\n",
    "    \n",
    "ax2 = ax1.twinx()  \n",
    "color = 'tab:blue'\n",
    "ax2.set_ylabel('accuracy', color=color)  \n",
    "ax2.plot( accuracy_list, color=color)\n",
    "ax2.tick_params(axis='y', color=color)\n",
    "fig.tight_layout()"
   ]
  },
  {
   "cell_type": "code",
   "execution_count": 15,
   "id": "924cbe68",
   "metadata": {},
   "outputs": [
    {
     "name": "stderr",
     "output_type": "stream",
     "text": [
      "C:\\Users\\User\\Anaconda3\\lib\\site-packages\\ipykernel_launcher.py:13: UserWarning: Implicit dimension choice for softmax has been deprecated. Change the call to include dim=X as an argument.\n",
      "  del sys.path[0]\n"
     ]
    },
    {
     "data": {
      "image/png": "[encoded data removed]",
      "text/plain": [
       "<Figure size 432x288 with 1 Axes>"
      ]
     },
     "metadata": {
      "needs_background": "light"
     },
     "output_type": "display_data"
    },
    {
     "name": "stdout",
     "output_type": "stream",
     "text": [
      "yhat: tensor([3])\n",
      "probability of class  0.1986187994480133\n"
     ]
    },
    {
     "data": {
      "image/png": "[encoded data removed]",
      "text/plain": [
       "<Figure size 432x288 with 1 Axes>"
      ]
     },
     "metadata": {
      "needs_background": "light"
     },
     "output_type": "display_data"
    },
    {
     "name": "stdout",
     "output_type": "stream",
     "text": [
      "yhat: tensor([4])\n",
      "probability of class  0.18571630120277405\n"
     ]
    },
    {
     "data": {
      "image/png": "[encoded data removed]",
      "text/plain": [
       "<Figure size 432x288 with 1 Axes>"
      ]
     },
     "metadata": {
      "needs_background": "light"
     },
     "output_type": "display_data"
    },
    {
     "name": "stdout",
     "output_type": "stream",
     "text": [
      "yhat: tensor([1])\n",
      "probability of class  0.12394531816244125\n"
     ]
    }
   ],
   "source": [
    "# Plot the misclassified samples\n",
    "Softmax_fn=nn.Softmax(dim=-1)\n",
    "count = 0\n",
    "\n",
    "for test_images, test_labels in validation_dataset:\n",
    "\n",
    "    # Flatten the images from [BATCH, 1, 28, 28] to [BATCH, 784]\n",
    "    flat_images = test_images.reshape(-1, 28 * 28)\n",
    "    \n",
    "    # Makes prediction based on image tensor\n",
    "    class_scores = model(flat_images)\n",
    "    \n",
    "    # Finds the class with the highest probability\n",
    "    prob,class_predictions = torch.max(class_scores, 1)\n",
    "    \n",
    "    # Check whether the prediction is equal to actual value and show them\n",
    "    if class_predictions != test_labels:\n",
    "        show_data((test_images, test_labels))\n",
    "        plt.show()\n",
    "        print(\"Prediction:\", class_predictions)\n",
    "        print(\"Probability of class \", torch.max(Softmax_fn(class_scores)).item())\n",
    "        count += 1\n",
    "    if count >= 3:\n",
    "        break       "
   ]
  },
  {
   "cell_type": "code",
   "execution_count": 16,
   "id": "e6f7a7b8",
   "metadata": {},
   "outputs": [
    {
     "name": "stderr",
     "output_type": "stream",
     "text": [
      "C:\\Users\\User\\Anaconda3\\lib\\site-packages\\ipykernel_launcher.py:13: UserWarning: Implicit dimension choice for softmax has been deprecated. Change the call to include dim=X as an argument.\n",
      "  del sys.path[0]\n"
     ]
    },
    {
     "data": {
      "image/png": "[encoded data removed]",
      "text/plain": [
       "<Figure size 432x288 with 1 Axes>"
      ]
     },
     "metadata": {
      "needs_background": "light"
     },
     "output_type": "display_data"
    },
    {
     "name": "stdout",
     "output_type": "stream",
     "text": [
      "yhat: tensor([0])\n",
      "probability of class  0.23156292736530304\n"
     ]
    },
    {
     "data": {
      "image/png": "[encoded data removed]",
      "text/plain": [
       "<Figure size 432x288 with 1 Axes>"
      ]
     },
     "metadata": {
      "needs_background": "light"
     },
     "output_type": "display_data"
    },
    {
     "name": "stdout",
     "output_type": "stream",
     "text": [
      "yhat: tensor([4])\n",
      "probability of class  0.20022791624069214\n"
     ]
    },
    {
     "data": {
      "image/png": "[encoded data removed]",
      "text/plain": [
       "<Figure size 432x288 with 1 Axes>"
      ]
     },
     "metadata": {
      "needs_background": "light"
     },
     "output_type": "display_data"
    },
    {
     "name": "stdout",
     "output_type": "stream",
     "text": [
      "yhat: tensor([1])\n",
      "probability of class  0.21769441664218903\n"
     ]
    }
   ],
   "source": [
    "# Plot the misclassified samples\n",
    "Softmax_fn=nn.Softmax(dim=-1)\n",
    "count = 0\n",
    "\n",
    "for test_images, test_labels in validation_dataset:\n",
    "\n",
    "    # Flatten the images from [BATCH, 1, 28, 28] to [BATCH, 784]\n",
    "    flat_images = test_images.reshape(-1, 28 * 28)\n",
    "    \n",
    "    # Makes prediction based on image tensor\n",
    "    class_scores = model(flat_images)\n",
    "    \n",
    "    # Finds the class with the highest probability\n",
    "    prob,class_predictions = torch.max(class_scores, 1)\n",
    "    \n",
    "    # Check whether the prediction is equal to actual value and show them\n",
    "    if class_predictions == test_labels:\n",
    "        show_data((test_images, test_labels))\n",
    "        plt.show()\n",
    "        print(\"Prediction:\", class_predictions)\n",
    "        print(\"Probability of class \", torch.max(Softmax_fn(class_scores)).item())\n",
    "        count += 1\n",
    "    if count >= 3:\n",
    "        break       "
   ]
  }
 ],
 "metadata": {
  "kernelspec": {
   "display_name": "Python 3 (ipykernel)",
   "language": "python",
   "name": "python3"
  },
  "language_info": {
   "codemirror_mode": {
    "name": "ipython",
    "version": 3
   },
   "file_extension": ".py",
   "mimetype": "text/x-python",
   "name": "python",
   "nbconvert_exporter": "python",
   "pygments_lexer": "ipython3",
   "version": "3.7.4"
  }
 },
 "nbformat": 4,
 "nbformat_minor": 5
}
